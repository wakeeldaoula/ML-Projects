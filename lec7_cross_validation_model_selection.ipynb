{
 "cells": [
  {
   "cell_type": "markdown",
   "metadata": {},
   "source": [
    "Agenda\n",
    "-> What is the drawback of using the train_test_split method\n",
    "-> How does k-fold cross-validation overcomes this limitation?\n",
    "-> How can cross-validation be used for selecting tuning parameters and selecting features\n",
    "-> What are some possible improvements to cross-validation"
   ]
  },
  {
   "cell_type": "code",
   "execution_count": null,
   "metadata": {},
   "outputs": [],
   "source": [
    "'''\n",
    "Benefits of train_test_split:\n",
    "    -> Fast and easy to implement\n",
    "    -> Helps prevent overfitting by ensuring that the model is evaluated on unseen data\n",
    "    -> Allows for easy experimentation with different train-test ratios\n",
    "    -> Facilitates reproducibility through the use of a random state\n",
    "    -> Essential for validating model performance in machine learning tasks\n",
    "\n",
    "Drawbacks of train_test_split:\n",
    "    -> May result in a small test set, which can lead to high variance in performance metrics\n",
    "    -> Random splitting can cause important patterns or trends to be missed, especially in small datasets\n",
    "    -> Does not account for time-based dependencies in time series data\n",
    "    -> Can lead to biased estimates if the data is not randomly distributed\n",
    "'''"
   ]
  },
  {
   "cell_type": "markdown",
   "metadata": {},
   "source": [
    "Now Use K-fold cross validation method to train data"
   ]
  },
  {
   "cell_type": "code",
   "execution_count": 7,
   "metadata": {},
   "outputs": [],
   "source": [
    "from sklearn.model_selection import KFold\n",
    "from sklearn.linear_model import LinearRegression\n",
    "from sklearn.metrics import mean_squared_error as mse\n",
    "import pandas as pd\n",
    "data = pd.read_csv('J:\\\\4-Fourth Smester\\\\coding_semester4\\\\AI Lab\\\\ML\\\\4-KNN\\\\customer_purchase_data.csv')\n",
    "feature_cols = ['NumberOfPurchases', 'AnnualIncome']\n",
    "X = data[feature_cols]\n",
    "Y = data[['TimeSpentOnWebsite']]\n"
   ]
  },
  {
   "cell_type": "code",
   "execution_count": null,
   "metadata": {},
   "outputs": [
    {
     "name": "stdout",
     "output_type": "stream",
     "text": [
      "Average Mean Squared Error (MSE) across 5 folds: 289.86631990590615\n"
     ]
    }
   ],
   "source": [
    "from sklearn.model_selection import KFold\n",
    "from sklearn.linear_model import LinearRegression\n",
    "from sklearn.metrics import mean_squared_error\n",
    "import pandas as pd\n",
    "import numpy as np\n",
    "\n",
    "# Load the dataset\n",
    "data = pd.read_csv('J:\\\\4-Fourth Smester\\\\coding_semester4\\\\AI Lab\\\\ML\\\\4-KNN\\\\customer_purchase_data.csv')\n",
    "\n",
    "# Define features and target variable\n",
    "feature_cols = ['NumberOfPurchases', 'AnnualIncome']\n",
    "X = data[feature_cols]\n",
    "Y = data[['TimeSpentOnWebsite']]\n",
    "\n",
    "# Set up k-fold cross-validation\n",
    "k = 5  # Number of folds\n",
    "kf = KFold(n_splits=k, shuffle=True, random_state=42)\n",
    "\n",
    "# Initialize the model and store results\n",
    "model = LinearRegression()\n",
    "mse_list = []\n",
    "\n",
    "# Perform k-fold cross-validation\n",
    "for train_index, test_index in kf.split(X):\n",
    "    X_train, X_test = X.iloc[train_index], X.iloc[test_index]  # Use iloc for correct indexing\n",
    "    Y_train, Y_test = Y.iloc[train_index], Y.iloc[test_index]  # Use iloc for correct indexing\n",
    "    \n",
    "    # Train the model\n",
    "    model.fit(X_train, Y_train)\n",
    "    \n",
    "    # Make predictions\n",
    "    Y_pred = model.predict(X_test)\n",
    "    \n",
    "    # Calculate and store the mean squared error\n",
    "    fold_mse = mean_squared_error(Y_test, Y_pred)\n",
    "    mse_list.append(fold_mse)\n",
    "\n",
    "# Calculate the average MSE across all folds\n",
    "average_mse = np.mean(mse_list)\n",
    "print(f'Average Mean Squared Error (MSE) across {k} folds: {average_mse}')\n",
    "# In last lec. we showed for this data through train_test_split method and the error was about 305\n",
    "# but now it is reduced to 289.86"
   ]
  },
  {
   "cell_type": "code",
   "execution_count": null,
   "metadata": {},
   "outputs": [],
   "source": [
    "'''\n",
    "Cross Validation Benefits:\n",
    "    -> Estimates are more accurate than train_test_split function\n",
    "    -> Flexibility to use different k values for tuning the validation process\n",
    "    -> Reduces the variance in performance estimates by averaging results across multiple folds\n",
    "    -> Makes better use of the entire dataset, especially with smaller datasets\n",
    "    -> Helps in identifying model overfitting and underfitting more effectively\n",
    "\n",
    "Cross Validation Drawbacks:\n",
    "    -> Increased computational cost due to multiple training cycles\n",
    "    -> Longer training times, especially for large datasets or complex models\n",
    "    -> May lead to data leakage if not implemented correctly (e.g., using the same preprocessing steps)\n",
    "    -> Not suitable for time series data without appropriate modifications to preserve temporal order\n",
    "'''"
   ]
  }
 ],
 "metadata": {
  "kernelspec": {
   "display_name": "Python 3",
   "language": "python",
   "name": "python3"
  },
  "language_info": {
   "codemirror_mode": {
    "name": "ipython",
    "version": 3
   },
   "file_extension": ".py",
   "mimetype": "text/x-python",
   "name": "python",
   "nbconvert_exporter": "python",
   "pygments_lexer": "ipython3",
   "version": "3.12.8"
  }
 },
 "nbformat": 4,
 "nbformat_minor": 2
}
