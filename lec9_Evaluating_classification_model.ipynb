{
 "cells": [
  {
   "cell_type": "markdown",
   "metadata": {},
   "source": [
    "purpose of model evaluation\n",
    "usage of classification accuracy\n",
    "confusion matrix\n",
    "different metrics can be computed from a confusion matrix\n",
    "adjusting classifiers\n",
    "purpse of ROC curve and AUC"
   ]
  }
 ],
 "metadata": {
  "language_info": {
   "name": "python"
  }
 },
 "nbformat": 4,
 "nbformat_minor": 2
}
