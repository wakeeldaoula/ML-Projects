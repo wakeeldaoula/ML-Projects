{
 "cells": [
  {
   "cell_type": "markdown",
   "metadata": {},
   "source": [
    "model evaluations, confusion matrix, accuracy, specificity, sensitivity, threshold, Root Means Square Value, Mean Square Value,\n",
    "roc_curve, AUC, roc_auc, hyperparameter tuning\n",
    "advantages, disadvantages, and limitations of these termenologies, multi classes ( having multiple response classes)"
   ]
  },
  {
   "cell_type": "code",
   "execution_count": null,
   "metadata": {},
   "outputs": [],
   "source": []
  }
 ],
 "metadata": {
  "language_info": {
   "name": "python"
  }
 },
 "nbformat": 4,
 "nbformat_minor": 2
}
